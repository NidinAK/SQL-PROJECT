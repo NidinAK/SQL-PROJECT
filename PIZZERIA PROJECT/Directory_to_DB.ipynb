{
 "cells": [
  {
   "cell_type": "code",
   "execution_count": 24,
   "metadata": {},
   "outputs": [],
   "source": [
    "import os\n",
    "import pandas as pd\n",
    "from sqlalchemy import create_engine"
   ]
  },
  {
   "cell_type": "code",
   "execution_count": 27,
   "metadata": {},
   "outputs": [],
   "source": [
    "# Path to the directory containing the CSV files\n",
    "csv_directory = \"D:\\\\SQL\\\\PIZZERIA PROJECT\\\\DATASET\"\n",
    "\n",
    "engine_str = (\n",
    "      \"mysql+pymysql://{user}:{password}@{server}/{database}\".format(\n",
    "       user      =  \"root\",\n",
    "       password  =  \"nidin#2001\",\n",
    "       server    =  \"localhost:3306\",\n",
    "       database  =  \"pizzeria_project\"))\n",
    "engine = create_engine(engine_str)\n",
    "\n",
    "# List all CSV files in the directory\n",
    "csv_files = [f for f in os.listdir(csv_directory) if f.endswith('.csv')]\n"
   ]
  },
  {
   "cell_type": "code",
   "execution_count": 29,
   "metadata": {},
   "outputs": [
    {
     "name": "stdout",
     "output_type": "stream",
     "text": [
      "Data from orders.csv has been successfully imported into table orders\n",
      "Data from order_details.csv has been successfully imported into table order_details\n",
      "Data from pizzas.csv has been successfully imported into table pizzas\n",
      "Data from pizza_types.csv has been successfully imported into table pizza_types\n",
      "All CSV files have been imported successfully.\n"
     ]
    }
   ],
   "source": [
    "# Loop through the CSV files and import each one into a new MySQL table\n",
    "for csv_file in csv_files:\n",
    "    csv_file_path = os.path.join(csv_directory, csv_file)\n",
    "    \n",
    "    # Read CSV file into DataFrame\n",
    "    data = pd.read_csv(csv_file_path,encoding='latin1')\n",
    "    \n",
    "    # Create a table name based on the CSV file name (without extension)\n",
    "    table_name = os.path.splitext(csv_file)[0]\n",
    "    \n",
    "    # Import data into MySQL table\n",
    "    data.to_sql(name=table_name, con=engine, if_exists='replace', index=False)\n",
    "    \n",
    "    print(f\"Data from {csv_file} has been successfully imported into table {table_name}\")\n",
    "\n",
    "print(\"All CSV files have been imported successfully.\")"
   ]
  },
  {
   "cell_type": "code",
   "execution_count": null,
   "metadata": {},
   "outputs": [],
   "source": []
  },
  {
   "cell_type": "code",
   "execution_count": null,
   "metadata": {},
   "outputs": [],
   "source": []
  }
 ],
 "metadata": {
  "kernelspec": {
   "display_name": "Python 3",
   "language": "python",
   "name": "python3"
  },
  "language_info": {
   "codemirror_mode": {
    "name": "ipython",
    "version": 3
   },
   "file_extension": ".py",
   "mimetype": "text/x-python",
   "name": "python",
   "nbconvert_exporter": "python",
   "pygments_lexer": "ipython3",
   "version": "3.9.13"
  }
 },
 "nbformat": 4,
 "nbformat_minor": 2
}
